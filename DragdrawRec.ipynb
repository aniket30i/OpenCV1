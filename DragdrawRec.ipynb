{
 "cells": [
  {
   "cell_type": "code",
   "execution_count": 6,
   "metadata": {},
   "outputs": [],
   "source": [
    "import cv2\n",
    "\n",
    "import numpy as np\n",
    "\n",
    "#Variables\n",
    "drawing=False # true while mb down , false when mb up\n",
    "ix,iy=-1,-1\n",
    "\n",
    "\n",
    "# Function\n",
    "def draw_rectangle(event,x,y,flags,params):\n",
    "    global ix,iy,drawing\n",
    "    \n",
    "    if event == cv2.EVENT_LBUTTONDOWN:\n",
    "        drawing= True;\n",
    "        ix,iy=x,y\n",
    "    elif event == cv2.EVENT_MOUSEMOVE:\n",
    "        if drawing==True:\n",
    "            cv2.rectangle(img,(ix,iy),(x,y),(0,255,0),-1)\n",
    "    elif event==cv2.EVENT_LBUTTONUP:\n",
    "        drawing=False\n",
    "        cv2.rectangle(img,(ix,iy),(x,y),(0,255,0),-1)\n",
    "\n",
    "#Showing the image\n",
    "\n",
    "img=np.zeros((512,512,3))\n",
    "cv2.namedWindow(winname='my_drawing')\n",
    "cv2.setMouseCallback('my_drawing',draw_rectangle)\n",
    "\n",
    "\n",
    "while True:\n",
    "    cv2.imshow('my_drawing',img)\n",
    "    \n",
    "    if cv2.waitKey(20) & 0xFF == 27:\n",
    "        break\n",
    "        \n",
    "cv2.destroyAllWindows()"
   ]
  },
  {
   "cell_type": "code",
   "execution_count": null,
   "metadata": {},
   "outputs": [],
   "source": []
  },
  {
   "cell_type": "code",
   "execution_count": null,
   "metadata": {},
   "outputs": [],
   "source": []
  }
 ],
 "metadata": {
  "kernelspec": {
   "display_name": "Python 3",
   "language": "python",
   "name": "python3"
  },
  "language_info": {
   "codemirror_mode": {
    "name": "ipython",
    "version": 3
   },
   "file_extension": ".py",
   "mimetype": "text/x-python",
   "name": "python",
   "nbconvert_exporter": "python",
   "pygments_lexer": "ipython3",
   "version": "3.6.6"
  }
 },
 "nbformat": 4,
 "nbformat_minor": 2
}
